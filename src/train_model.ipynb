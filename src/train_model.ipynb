{
 "cells": [
  {
   "cell_type": "markdown",
   "id": "c9cba8b9",
   "metadata": {},
   "source": [
    "### 🧩 Imports\n",
    "\n",
    "Import all the necessary libraries:\n",
    "- `json` for reading/writing JSON files.\n",
    "- `pandas` and `numpy` for data manipulation.\n",
    "- `random` for generating random synthetic data.\n",
    "- `IsolationForest` from `sklearn` for anomaly detection.\n",
    "- `joblib` for saving the trained model."
   ]
  },
  {
   "cell_type": "code",
   "id": "a807fa48",
   "metadata": {
    "ExecuteTime": {
     "end_time": "2025-07-02T09:53:52.006422Z",
     "start_time": "2025-07-02T09:53:51.993424Z"
    }
   },
   "source": [
    "import json\n",
    "import pandas as pd\n",
    "from sklearn.ensemble import IsolationForest\n",
    "import numpy as np\n",
    "import random\n",
    "import joblib\n",
    "import random\n",
    "from datetime import datetime"
   ],
   "outputs": [],
   "execution_count": 27
  },
  {
   "cell_type": "markdown",
   "id": "66939a62",
   "metadata": {},
   "source": [
    "### 📊 Generate Dataset\n",
    "\n",
    "Create synthetic \"normal\" network traffic data to train an anomaly detection model. Each sample includes:\n",
    "\n",
    "- `src_port`: randomly selected from common service ports.\n",
    "- `dst_port`: a random high port number.\n",
    "- `packet_size`: typical packet sizes.\n",
    "- `duration_ms`: duration of the communication.\n",
    "- `protocol`: randomly selected between TCP and UDP.\n",
    "\n",
    "This data is saved to `training_data.json` for future use."
   ]
  },
  {
   "cell_type": "code",
   "id": "870cc066",
   "metadata": {
    "ExecuteTime": {
     "end_time": "2025-07-02T09:53:52.038262Z",
     "start_time": "2025-07-02T09:53:52.026233Z"
    }
   },
   "source": [
    "def generate_normal_data():\n",
    "    \"\"\"Generate synthetic normal network traffic\"\"\"\n",
    "    COMMON_PORTS = [80, 443, 22, 8080]\n",
    "    current_hour = datetime.now().hour\n",
    "    is_business_hours = 9 <= current_hour <= 17\n",
    "    \n",
    "    # Protocol-specific packet size distributions\n",
    "    protocol = random.choice([\"TCP\", \"UDP\"])\n",
    "    if protocol == \"TCP\":\n",
    "        packet_size = int(random.gauss(1000, 200))  # TCP: larger packets, normal distribution\n",
    "        packet_size = max(500, min(1500, packet_size))  # Constrain to realistic range\n",
    "    else:\n",
    "        packet_size = int(random.gauss(400, 100))  # UDP: smaller packets\n",
    "        packet_size = max(100, min(800, packet_size))\n",
    "    \n",
    "    # Time-based traffic patterns\n",
    "    if is_business_hours:\n",
    "        duration_ms = int(random.gauss(150, 50))  # Shorter durations during business hours\n",
    "        duration_ms = max(50, min(300, duration_ms))\n",
    "    else:\n",
    "        duration_ms = int(random.gauss(300, 100))  # Longer durations off-hours\n",
    "        duration_ms = max(100, min(500, duration_ms))\n",
    "    \n",
    "    # Port-specific behaviors\n",
    "    src_port = random.choice(COMMON_PORTS)\n",
    "    if src_port == 80:  # HTTP traffic\n",
    "        packet_size = max(300, packet_size)  # Minimum size for HTTP\n",
    "        duration_ms = max(100, duration_ms)  # Slightly longer for HTTP\n",
    "    elif src_port == 443:  # HTTPS traffic\n",
    "        packet_size = max(400, packet_size)  # Minimum size for HTTPS\n",
    "    elif src_port == 22:  # SSH traffic\n",
    "        packet_size = min(packet_size, 600)  # Smaller packets for SSH\n",
    "        duration_ms = max(200, duration_ms)  # Longer duration for SSH\n",
    "    elif src_port == 8080:  # Alternative HTTP\n",
    "        packet_size = max(350, packet_size)\n",
    "    \n",
    "    # Destination port varies by source port\n",
    "    if src_port in [80, 443, 8080]:\n",
    "        dst_port = random.randint(1024, 65535)  # High ports for client connections\n",
    "    else:  # SSH (port 22)\n",
    "        dst_port = random.randint(49152, 65535)  # Ephemeral ports\n",
    "    \n",
    "    return {\n",
    "        \"src_port\": src_port,\n",
    "        \"dst_port\": dst_port,\n",
    "        \"packet_size\": packet_size,\n",
    "        \"duration_ms\": duration_ms,\n",
    "        \"protocol\": protocol\n",
    "    }"
   ],
   "outputs": [],
   "execution_count": 28
  },
  {
   "cell_type": "code",
   "id": "1dd53134",
   "metadata": {
    "ExecuteTime": {
     "end_time": "2025-07-02T09:53:52.068427Z",
     "start_time": "2025-07-02T09:53:52.040414Z"
    }
   },
   "source": [
    "with open(\"../dataset/training_data.json\") as f:\n",
    "    raw_data = json.load(f)\n",
    "\n",
    "df = pd.DataFrame(raw_data)\n",
    "display(df)"
   ],
   "outputs": [
    {
     "data": {
      "text/plain": [
       "     src_port  dst_port  packet_size  duration_ms protocol\n",
       "0          22     42597         1086          101      UDP\n",
       "1         443     31622          164          350      TCP\n",
       "2          80     40056          270          422      TCP\n",
       "3          80     10894          787          452      UDP\n",
       "4         443     63261          786          159      TCP\n",
       "..        ...       ...          ...          ...      ...\n",
       "995      8080     45137          554          306      TCP\n",
       "996       443     44194         1216          448      UDP\n",
       "997       443      5546          411          438      TCP\n",
       "998        80     55060          687          378      TCP\n",
       "999      8080     18518         1235          484      UDP\n",
       "\n",
       "[1000 rows x 5 columns]"
      ],
      "text/html": [
       "<div>\n",
       "<style scoped>\n",
       "    .dataframe tbody tr th:only-of-type {\n",
       "        vertical-align: middle;\n",
       "    }\n",
       "\n",
       "    .dataframe tbody tr th {\n",
       "        vertical-align: top;\n",
       "    }\n",
       "\n",
       "    .dataframe thead th {\n",
       "        text-align: right;\n",
       "    }\n",
       "</style>\n",
       "<table border=\"1\" class=\"dataframe\">\n",
       "  <thead>\n",
       "    <tr style=\"text-align: right;\">\n",
       "      <th></th>\n",
       "      <th>src_port</th>\n",
       "      <th>dst_port</th>\n",
       "      <th>packet_size</th>\n",
       "      <th>duration_ms</th>\n",
       "      <th>protocol</th>\n",
       "    </tr>\n",
       "  </thead>\n",
       "  <tbody>\n",
       "    <tr>\n",
       "      <th>0</th>\n",
       "      <td>22</td>\n",
       "      <td>42597</td>\n",
       "      <td>1086</td>\n",
       "      <td>101</td>\n",
       "      <td>UDP</td>\n",
       "    </tr>\n",
       "    <tr>\n",
       "      <th>1</th>\n",
       "      <td>443</td>\n",
       "      <td>31622</td>\n",
       "      <td>164</td>\n",
       "      <td>350</td>\n",
       "      <td>TCP</td>\n",
       "    </tr>\n",
       "    <tr>\n",
       "      <th>2</th>\n",
       "      <td>80</td>\n",
       "      <td>40056</td>\n",
       "      <td>270</td>\n",
       "      <td>422</td>\n",
       "      <td>TCP</td>\n",
       "    </tr>\n",
       "    <tr>\n",
       "      <th>3</th>\n",
       "      <td>80</td>\n",
       "      <td>10894</td>\n",
       "      <td>787</td>\n",
       "      <td>452</td>\n",
       "      <td>UDP</td>\n",
       "    </tr>\n",
       "    <tr>\n",
       "      <th>4</th>\n",
       "      <td>443</td>\n",
       "      <td>63261</td>\n",
       "      <td>786</td>\n",
       "      <td>159</td>\n",
       "      <td>TCP</td>\n",
       "    </tr>\n",
       "    <tr>\n",
       "      <th>...</th>\n",
       "      <td>...</td>\n",
       "      <td>...</td>\n",
       "      <td>...</td>\n",
       "      <td>...</td>\n",
       "      <td>...</td>\n",
       "    </tr>\n",
       "    <tr>\n",
       "      <th>995</th>\n",
       "      <td>8080</td>\n",
       "      <td>45137</td>\n",
       "      <td>554</td>\n",
       "      <td>306</td>\n",
       "      <td>TCP</td>\n",
       "    </tr>\n",
       "    <tr>\n",
       "      <th>996</th>\n",
       "      <td>443</td>\n",
       "      <td>44194</td>\n",
       "      <td>1216</td>\n",
       "      <td>448</td>\n",
       "      <td>UDP</td>\n",
       "    </tr>\n",
       "    <tr>\n",
       "      <th>997</th>\n",
       "      <td>443</td>\n",
       "      <td>5546</td>\n",
       "      <td>411</td>\n",
       "      <td>438</td>\n",
       "      <td>TCP</td>\n",
       "    </tr>\n",
       "    <tr>\n",
       "      <th>998</th>\n",
       "      <td>80</td>\n",
       "      <td>55060</td>\n",
       "      <td>687</td>\n",
       "      <td>378</td>\n",
       "      <td>TCP</td>\n",
       "    </tr>\n",
       "    <tr>\n",
       "      <th>999</th>\n",
       "      <td>8080</td>\n",
       "      <td>18518</td>\n",
       "      <td>1235</td>\n",
       "      <td>484</td>\n",
       "      <td>UDP</td>\n",
       "    </tr>\n",
       "  </tbody>\n",
       "</table>\n",
       "<p>1000 rows × 5 columns</p>\n",
       "</div>"
      ]
     },
     "metadata": {},
     "output_type": "display_data"
    }
   ],
   "execution_count": 29
  },
  {
   "cell_type": "markdown",
   "id": "439e560b",
   "metadata": {},
   "source": [
    "### 🧼 Preprocessing Function\n",
    "\n",
    "Machine learning models like Isolation Forest require **numerical input only**. Any categorical variables, such as the `protocol` column (`TCP`, `UDP`), must be converted into numbers.\n",
    "\n",
    "We handle this with **one-hot encoding**, using `pd.get_dummies`.\n",
    "\n",
    "#### 🛠️ Preprocessing Steps:\n",
    "\n",
    "1. **Identify categorical columns**:\n",
    "   - In our case, the `protocol` column is categorical (`TCP`, `UDP`).\n",
    "\n",
    "2. **Use `pd.get_dummies`**:\n",
    "   - This creates a new binary column for each category.\n",
    "   - For instance:\n",
    "     ```\n",
    "     protocol\n",
    "     ---------\n",
    "     TCP   →   protocol_UDP = 0\n",
    "     UDP   →   protocol_UDP = 1\n",
    "     ```\n",
    "   - Setting `drop_first=True` prevents multicollinearity by dropping the first category (`TCP` here), as it can be inferred from the others.\n",
    "\n",
    "3. **Return a DataFrame with all numerical values**:\n",
    "   - This is ready for model input.\n",
    "\n",
    "> ✅ This preprocessing is essential to avoid errors during training and ensure the model can learn from categorical variables."
   ]
  },
  {
   "cell_type": "code",
   "id": "aae1de67",
   "metadata": {
    "ExecuteTime": {
     "end_time": "2025-07-02T09:53:52.074573Z",
     "start_time": "2025-07-02T09:53:52.069426Z"
    }
   },
   "source": [
    "def preprocess_data(df):\n",
    "    \"\"\"\n",
    "    Preprocess the data for machine learning model input.\n",
    "    Convert categorical variables to numerical using one-hot encoding.\n",
    "    \"\"\"\n",
    "    # One-hot encode the protocol column (categorical variable)\n",
    "    df_encoded = pd.get_dummies(df, columns=['protocol'], drop_first=True)\n",
    "    \n",
    "    # Convert to numpy array for model input\n",
    "    return df_encoded.values"
   ],
   "outputs": [],
   "execution_count": 30
  },
  {
   "metadata": {
    "ExecuteTime": {
     "end_time": "2025-07-02T09:53:52.089920Z",
     "start_time": "2025-07-02T09:53:52.077312Z"
    }
   },
   "cell_type": "code",
   "source": [
    "# Load and preprocess the training data\n",
    "with open(\"../dataset/training_data.json\") as f:\n",
    "    raw_data = json.load(f)\n",
    "\n",
    "df = pd.DataFrame(raw_data)\n",
    "preprocessed_data = preprocess_data(df)"
   ],
   "id": "b48de7bc992da5e3",
   "outputs": [],
   "execution_count": 31
  },
  {
   "cell_type": "markdown",
   "id": "7c5bf7fa",
   "metadata": {},
   "source": [
    "### 🤖 Train Isolation Forest\n",
    "\n",
    "The `IsolationForest` algorithm is an unsupervised model used to detect anomalies. It isolates observations by randomly selecting features and splitting values.\n",
    "\n",
    "- `n_estimators=100`: number of trees in the forest.\n",
    "- `contamination=0.01`: assumes 1% of the data is anomalous.\n",
    "- `random_state=42`: ensures reproducibility.\n",
    "\n",
    "The model is trained on the preprocessed numerical dataset."
   ]
  },
  {
   "cell_type": "code",
   "id": "1226cc18",
   "metadata": {
    "ExecuteTime": {
     "end_time": "2025-07-02T09:53:52.249266Z",
     "start_time": "2025-07-02T09:53:52.090919Z"
    }
   },
   "source": [
    "model = IsolationForest(contamination=0.1, random_state=42, n_estimators=100)\n",
    "model.fit(preprocessed_data)"
   ],
   "outputs": [
    {
     "data": {
      "text/plain": [
       "IsolationForest(contamination=0.1, random_state=42)"
      ],
      "text/html": [
       "<style>#sk-container-id-5 {color: black;}#sk-container-id-5 pre{padding: 0;}#sk-container-id-5 div.sk-toggleable {background-color: white;}#sk-container-id-5 label.sk-toggleable__label {cursor: pointer;display: block;width: 100%;margin-bottom: 0;padding: 0.3em;box-sizing: border-box;text-align: center;}#sk-container-id-5 label.sk-toggleable__label-arrow:before {content: \"▸\";float: left;margin-right: 0.25em;color: #696969;}#sk-container-id-5 label.sk-toggleable__label-arrow:hover:before {color: black;}#sk-container-id-5 div.sk-estimator:hover label.sk-toggleable__label-arrow:before {color: black;}#sk-container-id-5 div.sk-toggleable__content {max-height: 0;max-width: 0;overflow: hidden;text-align: left;background-color: #f0f8ff;}#sk-container-id-5 div.sk-toggleable__content pre {margin: 0.2em;color: black;border-radius: 0.25em;background-color: #f0f8ff;}#sk-container-id-5 input.sk-toggleable__control:checked~div.sk-toggleable__content {max-height: 200px;max-width: 100%;overflow: auto;}#sk-container-id-5 input.sk-toggleable__control:checked~label.sk-toggleable__label-arrow:before {content: \"▾\";}#sk-container-id-5 div.sk-estimator input.sk-toggleable__control:checked~label.sk-toggleable__label {background-color: #d4ebff;}#sk-container-id-5 div.sk-label input.sk-toggleable__control:checked~label.sk-toggleable__label {background-color: #d4ebff;}#sk-container-id-5 input.sk-hidden--visually {border: 0;clip: rect(1px 1px 1px 1px);clip: rect(1px, 1px, 1px, 1px);height: 1px;margin: -1px;overflow: hidden;padding: 0;position: absolute;width: 1px;}#sk-container-id-5 div.sk-estimator {font-family: monospace;background-color: #f0f8ff;border: 1px dotted black;border-radius: 0.25em;box-sizing: border-box;margin-bottom: 0.5em;}#sk-container-id-5 div.sk-estimator:hover {background-color: #d4ebff;}#sk-container-id-5 div.sk-parallel-item::after {content: \"\";width: 100%;border-bottom: 1px solid gray;flex-grow: 1;}#sk-container-id-5 div.sk-label:hover label.sk-toggleable__label {background-color: #d4ebff;}#sk-container-id-5 div.sk-serial::before {content: \"\";position: absolute;border-left: 1px solid gray;box-sizing: border-box;top: 0;bottom: 0;left: 50%;z-index: 0;}#sk-container-id-5 div.sk-serial {display: flex;flex-direction: column;align-items: center;background-color: white;padding-right: 0.2em;padding-left: 0.2em;position: relative;}#sk-container-id-5 div.sk-item {position: relative;z-index: 1;}#sk-container-id-5 div.sk-parallel {display: flex;align-items: stretch;justify-content: center;background-color: white;position: relative;}#sk-container-id-5 div.sk-item::before, #sk-container-id-5 div.sk-parallel-item::before {content: \"\";position: absolute;border-left: 1px solid gray;box-sizing: border-box;top: 0;bottom: 0;left: 50%;z-index: -1;}#sk-container-id-5 div.sk-parallel-item {display: flex;flex-direction: column;z-index: 1;position: relative;background-color: white;}#sk-container-id-5 div.sk-parallel-item:first-child::after {align-self: flex-end;width: 50%;}#sk-container-id-5 div.sk-parallel-item:last-child::after {align-self: flex-start;width: 50%;}#sk-container-id-5 div.sk-parallel-item:only-child::after {width: 0;}#sk-container-id-5 div.sk-dashed-wrapped {border: 1px dashed gray;margin: 0 0.4em 0.5em 0.4em;box-sizing: border-box;padding-bottom: 0.4em;background-color: white;}#sk-container-id-5 div.sk-label label {font-family: monospace;font-weight: bold;display: inline-block;line-height: 1.2em;}#sk-container-id-5 div.sk-label-container {text-align: center;}#sk-container-id-5 div.sk-container {/* jupyter's `normalize.less` sets `[hidden] { display: none; }` but bootstrap.min.css set `[hidden] { display: none !important; }` so we also need the `!important` here to be able to override the default hidden behavior on the sphinx rendered scikit-learn.org. See: https://github.com/scikit-learn/scikit-learn/issues/21755 */display: inline-block !important;position: relative;}#sk-container-id-5 div.sk-text-repr-fallback {display: none;}</style><div id=\"sk-container-id-5\" class=\"sk-top-container\"><div class=\"sk-text-repr-fallback\"><pre>IsolationForest(contamination=0.1, random_state=42)</pre><b>In a Jupyter environment, please rerun this cell to show the HTML representation or trust the notebook. <br />On GitHub, the HTML representation is unable to render, please try loading this page with nbviewer.org.</b></div><div class=\"sk-container\" hidden><div class=\"sk-item\"><div class=\"sk-estimator sk-toggleable\"><input class=\"sk-toggleable__control sk-hidden--visually\" id=\"sk-estimator-id-5\" type=\"checkbox\" checked><label for=\"sk-estimator-id-5\" class=\"sk-toggleable__label sk-toggleable__label-arrow\">IsolationForest</label><div class=\"sk-toggleable__content\"><pre>IsolationForest(contamination=0.1, random_state=42)</pre></div></div></div></div></div>"
      ]
     },
     "execution_count": 32,
     "metadata": {},
     "output_type": "execute_result"
    }
   ],
   "execution_count": 32
  },
  {
   "cell_type": "markdown",
   "id": "b3d27677",
   "metadata": {},
   "source": [
    "### 💾 Save Trained Model\n",
    "\n",
    "Save the trained model using `joblib`, which allows for efficient serialization and deserialization. This saved model can be reused later for inference or deployment.\n"
   ]
  },
  {
   "cell_type": "code",
   "id": "1205b791",
   "metadata": {
    "ExecuteTime": {
     "end_time": "2025-07-02T09:53:52.283676Z",
     "start_time": "2025-07-02T09:53:52.250270Z"
    }
   },
   "source": [
    "joblib.dump(model, \"anomaly_model.joblib\")"
   ],
   "outputs": [
    {
     "data": {
      "text/plain": [
       "['anomaly_model.joblib']"
      ]
     },
     "execution_count": 33,
     "metadata": {},
     "output_type": "execute_result"
    }
   ],
   "execution_count": 33
  },
  {
   "cell_type": "markdown",
   "id": "aca5c30c",
   "metadata": {},
   "source": [
    "# predict data"
   ]
  },
  {
   "cell_type": "code",
   "id": "50cd9507",
   "metadata": {
    "ExecuteTime": {
     "end_time": "2025-07-02T09:53:52.291679Z",
     "start_time": "2025-07-02T09:53:52.284676Z"
    }
   },
   "source": [
    "sample_predictions = model.predict(preprocessed_data[:10])\n",
    "print(\"Sample predictions:\", sample_predictions)\n",
    "print(\"Legend: 1 = Normal, -1 = Anomaly\")"
   ],
   "outputs": [
    {
     "name": "stdout",
     "output_type": "stream",
     "text": [
      "Sample predictions: [1 1 1 1 1 1 1 1 1 1]\n",
      "Legend: 1 = Normal, -1 = Anomaly\n"
     ]
    }
   ],
   "execution_count": 34
  },
  {
   "metadata": {
    "ExecuteTime": {
     "end_time": "2025-07-02T09:53:52.307170Z",
     "start_time": "2025-07-02T09:53:52.292678Z"
    }
   },
   "cell_type": "code",
   "source": [
    "# Check model performance\n",
    "anomaly_scores = model.decision_function(preprocessed_data)\n",
    "print(f\"Model trained successfully!\")\n",
    "print(f\"Training data shape: {preprocessed_data.shape}\")\n",
    "print(f\"Average anomaly score: {np.mean(anomaly_scores):.3f}\")"
   ],
   "id": "73c640c2c9815c3",
   "outputs": [
    {
     "name": "stdout",
     "output_type": "stream",
     "text": [
      "Model trained successfully!\n",
      "Training data shape: (1000, 5)\n",
      "Average anomaly score: 0.049\n"
     ]
    }
   ],
   "execution_count": 35
  },
  {
   "metadata": {
    "ExecuteTime": {
     "end_time": "2025-07-02T09:53:52.310424Z",
     "start_time": "2025-07-02T09:53:52.308170Z"
    }
   },
   "cell_type": "code",
   "source": "",
   "id": "fd4c425b0df05985",
   "outputs": [],
   "execution_count": 35
  }
 ],
 "metadata": {
  "kernelspec": {
   "display_name": "Python 3 (ipykernel)",
   "language": "python",
   "name": "python3"
  },
  "language_info": {
   "codemirror_mode": {
    "name": "ipython",
    "version": 3
   },
   "file_extension": ".py",
   "mimetype": "text/x-python",
   "name": "python",
   "nbconvert_exporter": "python",
   "pygments_lexer": "ipython3",
   "version": "3.11.4"
  }
 },
 "nbformat": 4,
 "nbformat_minor": 5
}
